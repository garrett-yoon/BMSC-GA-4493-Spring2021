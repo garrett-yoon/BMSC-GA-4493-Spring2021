{
 "cells": [
  {
   "cell_type": "markdown",
   "metadata": {},
   "source": [
    "# Deep Learning in Medicine\n",
    "### BMSC-GA 4493, BMIN-GA 3007 \n",
    "### Lab 1: PyTorch Tutorial and Loss Functions\n"
   ]
  },
  {
   "cell_type": "markdown",
   "metadata": {},
   "source": [
    "### Goal of this lab: \n",
    "    - Understand Pytorch Tensor, and AutoGrad (Variable is deprecated in the new version of pytorch). \n",
    "    - Understand Loss Functions"
   ]
  },
  {
   "cell_type": "markdown",
   "metadata": {},
   "source": [
    "### What is PyTorch?\n",
    "It's a Python based scientific computing package targeted as:\n",
    "* A replacement for numpy to use the power of GPUs\n",
    "* A deep learning research platform that provides maximum flexibility and speed"
   ]
  },
  {
   "cell_type": "markdown",
   "metadata": {},
   "source": [
    "### Tensor\n",
    "It is similar to Numpy Ndarray\n",
    "<a href=\"https://docs.scipy.org/doc/numpy/reference/generated/numpy.ndarray.html\">https://docs.scipy.org/doc/numpy/reference/generated/numpy.ndarray.html \n"
   ]
  },
  {
   "cell_type": "code",
   "execution_count": 1,
   "metadata": {},
   "outputs": [],
   "source": [
    "from __future__ import print_function\n",
    "import torch"
   ]
  },
  {
   "cell_type": "markdown",
   "metadata": {},
   "source": [
    "#### Check Version of the Pytorch"
   ]
  },
  {
   "cell_type": "code",
   "execution_count": 2,
   "metadata": {},
   "outputs": [
    {
     "name": "stdout",
     "output_type": "stream",
     "text": [
      "1.7.0\n"
     ]
    }
   ],
   "source": [
    "print(torch.__version__)"
   ]
  },
  {
   "cell_type": "markdown",
   "metadata": {},
   "source": [
    "#### Tensor Initialization"
   ]
  },
  {
   "cell_type": "code",
   "execution_count": 3,
   "metadata": {},
   "outputs": [],
   "source": [
    "x = torch.Tensor(6, 2)  # construct a 6x2 matrix, uninitialized"
   ]
  },
  {
   "cell_type": "code",
   "execution_count": 4,
   "metadata": {},
   "outputs": [
    {
     "data": {
      "text/plain": [
       "(tensor([[1.1632e+33, 5.6003e-02],\n",
       "         [7.0374e+22, 5.7453e-44],\n",
       "         [0.0000e+00, 2.0000e+00],\n",
       "         [0.0000e+00, 2.0000e+00],\n",
       "         [1.4569e-19, 6.4069e+02],\n",
       "         [4.3066e+21, 1.1824e+22]]),\n",
       " torch.Size([6, 2]))"
      ]
     },
     "execution_count": 4,
     "metadata": {},
     "output_type": "execute_result"
    }
   ],
   "source": [
    "x, x.size()"
   ]
  },
  {
   "cell_type": "code",
   "execution_count": 5,
   "metadata": {},
   "outputs": [],
   "source": [
    "y = torch.rand(6, 2)  # construct a randomly initialized matrix\n"
   ]
  },
  {
   "cell_type": "code",
   "execution_count": 6,
   "metadata": {},
   "outputs": [
    {
     "data": {
      "text/plain": [
       "(tensor([[0.5532, 0.0095],\n",
       "         [0.9398, 0.2468],\n",
       "         [0.7564, 0.0577],\n",
       "         [0.4510, 0.7600],\n",
       "         [0.9945, 0.6033],\n",
       "         [0.8722, 0.0122]]),\n",
       " torch.Size([6, 2]))"
      ]
     },
     "execution_count": 6,
     "metadata": {},
     "output_type": "execute_result"
    }
   ],
   "source": [
    "y, y.size()"
   ]
  },
  {
   "cell_type": "code",
   "execution_count": 7,
   "metadata": {},
   "outputs": [],
   "source": [
    "z = torch.ones(7) # construct a matrix of ones"
   ]
  },
  {
   "cell_type": "code",
   "execution_count": 8,
   "metadata": {},
   "outputs": [
    {
     "data": {
      "text/plain": [
       "(tensor([1., 1., 1., 1., 1., 1., 1.]), torch.Size([7]))"
      ]
     },
     "execution_count": 8,
     "metadata": {},
     "output_type": "execute_result"
    }
   ],
   "source": [
    "z, z.size()"
   ]
  },
  {
   "cell_type": "markdown",
   "metadata": {},
   "source": [
    "#### Operation Example: Addtion\n",
    "Related reading and reference:\n",
    "    \n",
    "* PyTorch documentation:\n",
    "<a href=\"https://pytorch.org/docs/stable/nn.html\"> https://pytorch.org/docs/stable/nn.html </a>"
   ]
  },
  {
   "cell_type": "code",
   "execution_count": 9,
   "metadata": {},
   "outputs": [
    {
     "data": {
      "text/plain": [
       "tensor([[1.1632e+33, 6.5509e-02],\n",
       "        [7.0374e+22, 2.4680e-01],\n",
       "        [7.5641e-01, 2.0577e+00],\n",
       "        [4.5100e-01, 2.7600e+00],\n",
       "        [9.9446e-01, 6.4129e+02],\n",
       "        [4.3066e+21, 1.1824e+22]])"
      ]
     },
     "execution_count": 9,
     "metadata": {},
     "output_type": "execute_result"
    }
   ],
   "source": [
    "# addition: syntax 1\n",
    "x + y"
   ]
  },
  {
   "cell_type": "code",
   "execution_count": 10,
   "metadata": {},
   "outputs": [
    {
     "data": {
      "text/plain": [
       "tensor([[1.1632e+33, 6.5509e-02],\n",
       "        [7.0374e+22, 2.4680e-01],\n",
       "        [7.5641e-01, 2.0577e+00],\n",
       "        [4.5100e-01, 2.7600e+00],\n",
       "        [9.9446e-01, 6.4129e+02],\n",
       "        [4.3066e+21, 1.1824e+22]])"
      ]
     },
     "execution_count": 10,
     "metadata": {},
     "output_type": "execute_result"
    }
   ],
   "source": [
    "# addition: syntax 2\n",
    "torch.add(x, y)"
   ]
  },
  {
   "cell_type": "code",
   "execution_count": 11,
   "metadata": {},
   "outputs": [
    {
     "data": {
      "text/plain": [
       "tensor([[1.1632e+33, 6.5509e-02],\n",
       "        [7.0374e+22, 2.4680e-01],\n",
       "        [7.5641e-01, 2.0577e+00],\n",
       "        [4.5100e-01, 2.7600e+00],\n",
       "        [9.9446e-01, 6.4129e+02],\n",
       "        [4.3066e+21, 1.1824e+22]])"
      ]
     },
     "execution_count": 11,
     "metadata": {},
     "output_type": "execute_result"
    }
   ],
   "source": [
    "# addition: giving an output tensor\n",
    "result = torch.Tensor(6, 2)\n",
    "torch.add(x, y, out=result)"
   ]
  },
  {
   "cell_type": "code",
   "execution_count": 12,
   "metadata": {},
   "outputs": [
    {
     "data": {
      "text/plain": [
       "tensor([[1.1632e+33, 6.5509e-02],\n",
       "        [7.0374e+22, 2.4680e-01],\n",
       "        [7.5641e-01, 2.0577e+00],\n",
       "        [4.5100e-01, 2.7600e+00],\n",
       "        [9.9446e-01, 6.4129e+02],\n",
       "        [4.3066e+21, 1.1824e+22]])"
      ]
     },
     "execution_count": 12,
     "metadata": {},
     "output_type": "execute_result"
    }
   ],
   "source": [
    "# addition: in-place\n",
    "y.add_(x) # adds x to y"
   ]
  },
  {
   "cell_type": "markdown",
   "metadata": {},
   "source": [
    "#### Numpy Bridge:\n",
    "The torch Tensor and numpy array will share their underlying memory locations, and changing one will change the other."
   ]
  },
  {
   "cell_type": "markdown",
   "metadata": {},
   "source": [
    "##### Convert Torch Tensor to Numpy"
   ]
  },
  {
   "cell_type": "code",
   "execution_count": 13,
   "metadata": {},
   "outputs": [
    {
     "data": {
      "text/plain": [
       "tensor([1., 1., 1., 1., 1.])"
      ]
     },
     "execution_count": 13,
     "metadata": {},
     "output_type": "execute_result"
    }
   ],
   "source": [
    "a = torch.ones(5)\n",
    "a"
   ]
  },
  {
   "cell_type": "code",
   "execution_count": 14,
   "metadata": {},
   "outputs": [
    {
     "data": {
      "text/plain": [
       "array([1., 1., 1., 1., 1.], dtype=float32)"
      ]
     },
     "execution_count": 14,
     "metadata": {},
     "output_type": "execute_result"
    }
   ],
   "source": [
    "b = a.numpy()\n",
    "b"
   ]
  },
  {
   "cell_type": "code",
   "execution_count": 15,
   "metadata": {},
   "outputs": [
    {
     "name": "stdout",
     "output_type": "stream",
     "text": [
      "tensor([2., 2., 2., 2., 2.])\n",
      "[2. 2. 2. 2. 2.]\n"
     ]
    }
   ],
   "source": [
    "a.add_(1) # Remember this is an inplace addition\n",
    "print(a)\n",
    "print(b) # see how the numpy array changed in value"
   ]
  },
  {
   "cell_type": "markdown",
   "metadata": {},
   "source": [
    "##### Converting Numpy Array to Torch Tensor"
   ]
  },
  {
   "cell_type": "code",
   "execution_count": 16,
   "metadata": {},
   "outputs": [
    {
     "name": "stdout",
     "output_type": "stream",
     "text": [
      "[2. 2. 2. 2. 2.]\n",
      "tensor([2., 2., 2., 2., 2.], dtype=torch.float64)\n"
     ]
    }
   ],
   "source": [
    "import numpy as np\n",
    "a = np.ones(5)\n",
    "b = torch.from_numpy(a)\n",
    "np.add(a, 1, out=a)\n",
    "print(a)\n",
    "print(b)"
   ]
  },
  {
   "cell_type": "markdown",
   "metadata": {},
   "source": [
    "####  Used of CUDA"
   ]
  },
  {
   "cell_type": "code",
   "execution_count": 17,
   "metadata": {},
   "outputs": [],
   "source": [
    "# let us run this cell only if CUDA is available\n",
    "if torch.cuda.is_available():\n",
    "    x = x.cuda()\n",
    "    y = y.cuda()\n",
    "    x + y"
   ]
  },
  {
   "cell_type": "markdown",
   "metadata": {},
   "source": [
    "### Autograd: automatic differentiation\n",
    "* The autograd package provides automatic differentiation for all operations on Tensors.It is a define-by-run framework, which means that your backprop is defined by how your code is run, and that every single iteration can be different.\n",
    "\n",
    "### Tensor\n",
    "* torch.Tensor is the central class of the package. If you set its attribute .requires_grad as True, it starts to track all operations on it.\n",
    "* When you finish your computation you can call .backward() and have all the gradients computed automatically.\n",
    "* The gradient for this tensor will be accumulated into .grad attribute.\n",
    "* To stop a tensor from tracking history, you can call .detach() to detach it from the computation history, and to prevent future computation from being tracked.\n",
    "\n",
    "### Function\n",
    "* Tensor and Function are interconnected and build up an acyclic graph, that encodes a complete history of computation.\n",
    "* Each tensor has a .grad_fn attribute that references a Function that has created the Tensor (except for Tensors created by the user - their grad_fn is None).\n",
    "\n",
    "Related Reading and Reference:\n",
    "<a href=\"https://pytorch.org/docs/stable/autograd.html\"> https://pytorch.org/docs/stable/autograd.html </a>"
   ]
  },
  {
   "cell_type": "code",
   "execution_count": 18,
   "metadata": {},
   "outputs": [],
   "source": [
    "import torch"
   ]
  },
  {
   "cell_type": "code",
   "execution_count": 19,
   "metadata": {},
   "outputs": [
    {
     "name": "stdout",
     "output_type": "stream",
     "text": [
      "tensor([[1., 1.],\n",
      "        [1., 1.]], requires_grad=True)\n"
     ]
    }
   ],
   "source": [
    "x = torch.ones((2, 2), requires_grad=True)\n",
    "print(x)"
   ]
  },
  {
   "cell_type": "code",
   "execution_count": 20,
   "metadata": {},
   "outputs": [
    {
     "name": "stdout",
     "output_type": "stream",
     "text": [
      "tensor([[3., 3.],\n",
      "        [3., 3.]], grad_fn=<AddBackward0>)\n"
     ]
    }
   ],
   "source": [
    "y = x + 2\n",
    "print(y)"
   ]
  },
  {
   "cell_type": "code",
   "execution_count": 21,
   "metadata": {},
   "outputs": [
    {
     "name": "stdout",
     "output_type": "stream",
     "text": [
      "<AddBackward0 object at 0x7fc48df7bd68>\n"
     ]
    }
   ],
   "source": [
    "print(y.grad_fn)"
   ]
  },
  {
   "cell_type": "code",
   "execution_count": 22,
   "metadata": {},
   "outputs": [
    {
     "name": "stdout",
     "output_type": "stream",
     "text": [
      "tensor([[18., 18.],\n",
      "        [18., 18.]], grad_fn=<MulBackward0>) tensor(18., grad_fn=<MeanBackward0>)\n"
     ]
    }
   ],
   "source": [
    "z = y * y * 2\n",
    "out = z.mean()\n",
    "print(z, out)"
   ]
  },
  {
   "cell_type": "code",
   "execution_count": 23,
   "metadata": {},
   "outputs": [
    {
     "name": "stdout",
     "output_type": "stream",
     "text": [
      "None\n"
     ]
    }
   ],
   "source": [
    "# What's the gradient of X before backward() is performed?\n",
    "print(x.grad)"
   ]
  },
  {
   "cell_type": "code",
   "execution_count": 24,
   "metadata": {},
   "outputs": [
    {
     "name": "stdout",
     "output_type": "stream",
     "text": [
      "tensor([[3., 3.],\n",
      "        [3., 3.]])\n"
     ]
    }
   ],
   "source": [
    "# What's the correct gradient of X?\n",
    "out.backward()\n",
    "print(x.grad)"
   ]
  },
  {
   "cell_type": "code",
   "execution_count": 25,
   "metadata": {},
   "outputs": [
    {
     "name": "stdout",
     "output_type": "stream",
     "text": [
      "None\n"
     ]
    },
    {
     "name": "stderr",
     "output_type": "stream",
     "text": [
      "/Users/rh2740/anaconda3/envs/py36/lib/python3.6/site-packages/ipykernel_launcher.py:1: UserWarning: The .grad attribute of a Tensor that is not a leaf Tensor is being accessed. Its .grad attribute won't be populated during autograd.backward(). If you indeed want the gradient for a non-leaf Tensor, use .retain_grad() on the non-leaf Tensor. If you access the non-leaf Tensor by mistake, make sure you access the leaf Tensor instead. See github.com/pytorch/pytorch/pull/30531 for more informations.\n",
      "  \"\"\"Entry point for launching an IPython kernel.\n"
     ]
    }
   ],
   "source": [
    "print(y.grad)"
   ]
  },
  {
   "cell_type": "markdown",
   "metadata": {},
   "source": [
    "### Loss Functions"
   ]
  },
  {
   "cell_type": "markdown",
   "metadata": {},
   "source": [
    " Related Reference: \n",
    "<a href=\"http://pytorch.org/docs/master/nn.html#loss-functions\">http://pytorch.org/docs/master/nn.html#loss-functions </a>"
   ]
  },
  {
   "cell_type": "markdown",
   "metadata": {},
   "source": [
    "#### Mean Squared Error"
   ]
  },
  {
   "cell_type": "code",
   "execution_count": 26,
   "metadata": {},
   "outputs": [],
   "source": [
    "import torch.nn as nn\n",
    "input = torch.randn((4, 5), requires_grad=True)\n",
    "target = torch.randn(4, 5)"
   ]
  },
  {
   "cell_type": "code",
   "execution_count": 27,
   "metadata": {},
   "outputs": [
    {
     "name": "stdout",
     "output_type": "stream",
     "text": [
      "tensor([[ 0.0270,  0.0467, -0.5995, -1.5226, -0.7597],\n",
      "        [ 0.8794,  0.3176,  0.1796, -0.8550,  0.1265],\n",
      "        [-0.6853, -1.2270,  0.1474,  2.9559, -0.0308],\n",
      "        [ 0.0666, -0.6587, -0.6442,  1.0076, -2.2955]], requires_grad=True)\n",
      "tensor([[ 0.2562, -0.5330, -0.3883, -1.5687,  0.1057],\n",
      "        [ 0.1726, -0.1616,  1.2776,  0.0167,  1.6215],\n",
      "        [-1.2269, -1.0384,  0.7296, -0.0178, -0.0030],\n",
      "        [ 0.5540,  0.3658, -0.6702,  1.4077, -0.7608]])\n"
     ]
    }
   ],
   "source": [
    "print(input)\n",
    "print(target)"
   ]
  },
  {
   "cell_type": "code",
   "execution_count": 28,
   "metadata": {},
   "outputs": [],
   "source": [
    "loss = nn.MSELoss()\n",
    "output = loss(input, target)\n",
    "output.backward()"
   ]
  },
  {
   "cell_type": "code",
   "execution_count": 29,
   "metadata": {},
   "outputs": [
    {
     "data": {
      "text/plain": [
       "(tensor(0.9715, grad_fn=<MseLossBackward>),\n",
       " tensor([[ 0.0270,  0.0467, -0.5995, -1.5226, -0.7597],\n",
       "         [ 0.8794,  0.3176,  0.1796, -0.8550,  0.1265],\n",
       "         [-0.6853, -1.2270,  0.1474,  2.9559, -0.0308],\n",
       "         [ 0.0666, -0.6587, -0.6442,  1.0076, -2.2955]], requires_grad=True))"
      ]
     },
     "execution_count": 29,
     "metadata": {},
     "output_type": "execute_result"
    }
   ],
   "source": [
    "output, input"
   ]
  },
  {
   "cell_type": "markdown",
   "metadata": {},
   "source": [
    "### Reference:\n",
    "* Deep Learning with PyTorch: A 60 Minute Blitz:\n",
    "    <a href=\"http://pytorch.org/tutorials/beginner/deep_learning_60min_blitz.html\">http://pytorch.org/tutorials/beginner/deep_learning_60min_blitz.html\n",
    "    \n",
    "    \n",
    "* PyTorch documentation:\n",
    "<a href=\"https://pytorch.org/docs/stable/nn.html\"> https://pytorch.org/docs/stable/nn.html </a>"
   ]
  }
 ],
 "metadata": {
  "kernelspec": {
   "display_name": "Python 3",
   "language": "python",
   "name": "python3"
  },
  "language_info": {
   "codemirror_mode": {
    "name": "ipython",
    "version": 3
   },
   "file_extension": ".py",
   "mimetype": "text/x-python",
   "name": "python",
   "nbconvert_exporter": "python",
   "pygments_lexer": "ipython3",
   "version": "3.6.7"
  }
 },
 "nbformat": 4,
 "nbformat_minor": 4
}
